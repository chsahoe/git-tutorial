{
 "cells": [
  {
   "cell_type": "markdown",
   "metadata": {},
   "source": [
    "# File Versioning for Code with Git and GitHub\n",
    "\n",
    "Welcome to the workshop on \"File Versioning for Code with Git and GitHub\"! If you have managed to open this jupyter notebook inside your browser you have already learned how to: install and set up python, jupyter, git and gitkraken. Furthermore you have forked and cloned a repository and started jupyter successfully! Congratulations!\n",
    "\n",
    "Using this jupyter notebook we'll implement some scripts that manipulate .csv files and learn the git basics.\n",
    "\n",
    "Have fun :)!"
   ]
  },
  {
   "cell_type": "code",
   "execution_count": 30,
   "metadata": {},
   "outputs": [],
   "source": [
    "import csv\n",
    "\n",
    "def readCsvData(path):\n",
    "    data = []\n",
    "    with open(path, newline='') as csvFile:\n",
    "        csvReader = csv.reader(csvFile, delimiter=';', quotechar='|')\n",
    "        for line in csvReader:\n",
    "            data.append(line)\n",
    "    return data\n",
    "\n",
    "def writeCsvData(path, data):\n",
    "    with open(path, 'w', newline='') as csvFile:\n",
    "        csvWriter = csv.writer(csvFile, delimiter=';', quotechar='|', quoting=csv.QUOTE_MINIMAL)\n",
    "        for line in data:\n",
    "            csvWriter.writerow(line)"
   ]
  },
  {
   "cell_type": "code",
   "execution_count": 31,
   "metadata": {},
   "outputs": [
    {
     "name": "stdout",
     "output_type": "stream",
     "text": [
      "[['846', '50'], ['869', '47'], ['892', '44'], ['915', '41'], ['938', '38'], ['961', '35'], ['984', '32'], ['1007', '29'], ['1030', '26'], ['1053', '23'], ['1076', '20'], ['1099', '17'], ['1122', '14'], ['1145', '11']]\n"
     ]
    }
   ],
   "source": [
    "csvData = readCsvData('raw-data2.csv');\n",
    "print(csvData)"
   ]
  },
  {
   "cell_type": "code",
   "execution_count": 32,
   "metadata": {},
   "outputs": [],
   "source": [
    "def sum(a, b):\n",
    "    return a + b\n",
    "\n",
    "def sumLine(line):\n",
    "    firstValueOfLine = int(line[0])\n",
    "    secondValueOfLine = int(line[1])\n",
    "    return sum(firstValueOfLine, secondValueOfLine)"
   ]
  },
  {
   "cell_type": "code",
   "execution_count": null,
   "metadata": {
    "scrolled": true
   },
   "outputs": [],
   "execution_count": 33,
   "metadata": {},
   "outputs": [
    {
     "name": "stdout",
     "output_type": "stream",
     "text": [
      "[['846', '50', 896], ['869', '47', 916], ['892', '44', 936], ['915', '41', 956], ['938', '38', 976], ['961', '35', 996], ['984', '32', 1016], ['1007', '29', 1036], ['1030', '26', 1056], ['1053', '23', 1076], ['1076', '20', 1096], ['1099', '17', 1116], ['1122', '14', 1136], ['1145', '11', 1156]]\n"
     ]
    }
   ],
   "source": [
    "import copy\n",
    "\n",
    "csvDataWithSums = copy.deepcopy(csvData)\n",
    "\n",
    "for line in csvDataWithSums:\n",
    "    sumOfLine = sumLine(line)\n",
    "    line.append(sumOfLine)\n",
    "    \n",
    "print(csvDataWithSums)"
   ]
  },
  {
   "cell_type": "code",
   "execution_count": 34,
   "metadata": {},
   "outputs": [],
   "source": [
    "def prod(a, b):\n",
    "    return a - b\n",
    "\n",
    "def prodLine(line):\n",
    "    firstValueOfLine = int(line[0])\n",
    "    secondValueOfLine = int(line[1])\n",
    "    return prod(firstValueOfLine, secondValueOfLine)"
   ]
  },
  {
   "cell_type": "code",
   "execution_count": null,
   "metadata": {},
   "outputs": [],
   "source": [
    "import copy\n",
    "\n",
    "csvDataWithSums = copy.deepcopy(csvData)\n",
    "\n",
    "for line in csvDataWithSums:\n",
    "    prodOfLine = prodLine(line)\n",
    "    line.append(prodOfLine)\n",
    "    \n",
    "print(csvDataWithSums)"
   ]
  },
  {
   "cell_type": "code",
   "execution_count": null,
   "metadata": {},
   "outputs": [],
   "source": [
    "def div(a, b):\n",
    "    return a / b\n",
    "\n",
    "def divLine(line):\n",
    "    firstValueOfLine = int(line[0])\n",
    "    secondValueOfLine = int(line[1])\n",
    "    return div(firstValueOfLine, secondValueOfLine)"
   ]
  },
  {
   "cell_type": "code",
   "execution_count": null,
   "metadata": {},
   "outputs": [],
   "source": [
    "import copy\n",
    "\n",
    "csvDataWithSums = copy.deepcopy(csvData)\n",
    "\n",
    "for line in csvDataWithSums:\n",
    "    divOfLine = divLine(line)\n",
    "    line.append(divOfLine)\n",
    "    \n",
    "print(csvDataWithSums)"
   ]
  },
  {
   "cell_type": "code",
   "execution_count": null,
   "metadata": {},
   "outputs": [],
   "source": [
    "def subt(a, b):\n",
    "    return a - b\n",
    "\n",
    "def subtLine(line):\n",
    "    firstValueOfLine = int(line[0])\n",
    "    secondValueOfLine = int(line[1])\n",
    "    return subt(firstValueOfLine, secondValueOfLine)"
   ]
  },
  {
   "cell_type": "code",
   "execution_count": 35,
   "metadata": {},
   "outputs": [
    {
     "name": "stdout",
     "output_type": "stream",
     "text": [
      "[['846', '50', 796], ['869', '47', 822], ['892', '44', 848], ['915', '41', 874], ['938', '38', 900], ['961', '35', 926], ['984', '32', 952], ['1007', '29', 978], ['1030', '26', 1004], ['1053', '23', 1030], ['1076', '20', 1056], ['1099', '17', 1082], ['1122', '14', 1108], ['1145', '11', 1134]]\n"
     ]
    }
   ],
   "source": [
    "import copy\n",
    "\n",
    "csvDataWithSums = copy.deepcopy(csvData)\n",
    "\n",
    "for line in csvDataWithSums:\n",
    "    subtOfLine = subtLine(line)\n",
    "    line.append(subtOfLine)\n",
    "    \n",
    "print(csvDataWithSums)"
   ]
  },
  {
   "cell_type": "code",
   "execution_count": 36,
   "metadata": {},
   "outputs": [],
   "source": [
    "writeCsvData('result-data.csv', csvDataWithSums)"
   ]
  },
  {
   "cell_type": "code",
   "execution_count": null,
   "metadata": {},
   "outputs": [],
   "source": []
  }
 ],
 "metadata": {
  "kernelspec": {
   "display_name": "Python 3",
   "language": "python",
   "name": "python3"
  },
  "language_info": {
   "codemirror_mode": {
    "name": "ipython",
    "version": 3
   },
   "file_extension": ".py",
   "mimetype": "text/x-python",
   "name": "python",
   "nbconvert_exporter": "python",
   "pygments_lexer": "ipython3",
   "version": "3.9.0"
  }
 },
 "nbformat": 4,
 "nbformat_minor": 4
}
